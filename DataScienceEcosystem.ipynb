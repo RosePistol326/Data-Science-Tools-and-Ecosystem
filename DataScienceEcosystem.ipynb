{
 "cells": [
  {
   "cell_type": "markdown",
   "id": "a7378bee-fffc-4c77-823c-8bca4b6dfeb5",
   "metadata": {},
   "source": [
    "# Data Science Tools and Ecosystem"
   ]
  },
  {
   "cell_type": "markdown",
   "id": "4fe0123a-d700-41dd-8e11-1730889db9ec",
   "metadata": {},
   "source": [
    "In this notebook, Data Science Tools and Ecosystem are summarized."
   ]
  },
  {
   "cell_type": "markdown",
   "id": "16c395a3-246a-438f-bee0-5eca7a71a682",
   "metadata": {},
   "source": [
    "**Objectives:**\n",
    "- Popular data science languages \n",
    "- Common Data Science Libraries \n",
    "- Data Science tools "
   ]
  },
  {
   "cell_type": "markdown",
   "id": "20b91d8f-d419-46cd-9015-5440e31eb02a",
   "metadata": {},
   "source": [
    "Some of the popular languages that Data Scientists use are:\n",
    "    \n",
    "    1. python \n",
    "    2. R\n",
    "    3. SQL\n",
    "    4. C++\n"
   ]
  },
  {
   "cell_type": "markdown",
   "id": "8f0f1d8a-1fba-4fef-aee3-505c18b64a03",
   "metadata": {},
   "source": [
    "Some of the commonly used libraries used by Data Scientists include:\n",
    "\n",
    "1. Pandas\n",
    "2. NumPy\n",
    "3. TensorFlow \n",
    "4. SciPy\n",
    "5. PyTorch"
   ]
  },
  {
   "cell_type": "markdown",
   "id": "e5500f14-caab-4183-8350-87a511061d38",
   "metadata": {},
   "source": [
    "|Data Science Tools|\n",
    "|------------------|\n",
    "|SPSS|\n",
    "|MATLAB|\n",
    "|SAS|"
   ]
  },
  {
   "cell_type": "markdown",
   "id": "4842db47-cc73-4150-b6d7-220914f7cbce",
   "metadata": {},
   "source": [
    "### Below are a few examples of evaluating arithmetic expressions in Python"
   ]
  },
  {
   "cell_type": "markdown",
   "id": "ed1229d8-bd11-4925-87ae-11c2281dc0c3",
   "metadata": {},
   "source": [
    "This a simple arithmetic expression to mutiply then add integers"
   ]
  },
  {
   "cell_type": "code",
   "execution_count": 3,
   "id": "f1a52b33-1288-43dd-a28b-b4b6e30892f5",
   "metadata": {},
   "outputs": [
    {
     "data": {
      "text/plain": [
       "17"
      ]
     },
     "execution_count": 3,
     "metadata": {},
     "output_type": "execute_result"
    }
   ],
   "source": [
    "(3*4)+5"
   ]
  },
  {
   "cell_type": "markdown",
   "id": "add57656-2264-4a5c-a6b2-66aaa913d0a6",
   "metadata": {},
   "source": [
    "This will convert 200 minutes to hours by diving by 60"
   ]
  },
  {
   "cell_type": "code",
   "execution_count": 4,
   "id": "d2e6f0cf-3293-4a0e-9897-0915581f813d",
   "metadata": {},
   "outputs": [
    {
     "data": {
      "text/plain": [
       "3.3333333333333335"
      ]
     },
     "execution_count": 4,
     "metadata": {},
     "output_type": "execute_result"
    }
   ],
   "source": [
    "200/60"
   ]
  },
  {
   "cell_type": "markdown",
   "id": "54cf70a8-3b86-4843-8479-1473276e11cd",
   "metadata": {},
   "source": [
    "## Author \n",
    "Dawn Sturgeon "
   ]
  }
 ],
 "metadata": {
  "kernelspec": {
   "display_name": "Python 3 (ipykernel)",
   "language": "python",
   "name": "python3"
  },
  "language_info": {
   "codemirror_mode": {
    "name": "ipython",
    "version": 3
   },
   "file_extension": ".py",
   "mimetype": "text/x-python",
   "name": "python",
   "nbconvert_exporter": "python",
   "pygments_lexer": "ipython3",
   "version": "3.10.9"
  }
 },
 "nbformat": 4,
 "nbformat_minor": 5
}
